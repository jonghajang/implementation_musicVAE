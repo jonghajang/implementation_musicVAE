{
 "cells": [
  {
   "cell_type": "code",
   "execution_count": 28,
   "id": "9551dfaa-139c-4a42-836d-2e41b479529f",
   "metadata": {
    "tags": []
   },
   "outputs": [],
   "source": [
    "import numpy as np\n",
    "import os\n",
    "import collections\n",
    "import note_seq \n",
    "from absl import flags\n",
    "import apache_beam as beam\n",
    "\n",
    "from magenta.common import merge_hparams\n",
    "from magenta.models.music_vae import data\n",
    "from magenta.contrib import training as contrib_training\n",
    "from magenta.models.music_vae import MusicVAE, lstm_models, configs, preprocess_tfrecord\n",
    "from magenta.scripts.convert_dir_to_note_sequences import convert_directory"
   ]
  },
  {
   "cell_type": "code",
   "execution_count": 29,
   "id": "94d443bd-7c85-4500-8d60-f6df12412aa9",
   "metadata": {
    "tags": []
   },
   "outputs": [],
   "source": [
    "class Config(collections.namedtuple('Config',\n",
    "                                    ['model', 'hparams', 'note_sequence_augmenter', 'data_converter',\n",
    "                                     'train_examples_path', 'eval_examples_path', 'tfds_name'])):\n",
    "    def values(self):\n",
    "        return self._asdict()\n",
    "\n",
    "Config.__new__.__defaults__ = (None,) * len(Config._fields)\n",
    "\n",
    "def update_config(config, update_dict):\n",
    "    config_dict = config.values()\n",
    "    config_dict.update(update_dict)\n",
    "    return Config(**config_dict)\n",
    "\n",
    "HParams = contrib_training.HParams\n",
    "\n",
    "CONFIG_MAP = {}\n",
    "CONFIG_MAP['groovae_4bar'] = Config(\n",
    "    model=MusicVAE(lstm_models.BidirectionalLstmEncoder(),\n",
    "                   lstm_models.GrooveLstmDecoder()),\n",
    "    hparams=merge_hparams(\n",
    "        lstm_models.get_default_hparams(),\n",
    "        HParams(\n",
    "            batch_size=512,\n",
    "            max_seq_len=16 * 4,  # 4 bars w/ 16 steps per bar\n",
    "            z_size=256,\n",
    "            enc_rnn_size=[512],\n",
    "            dec_rnn_size=[256, 256],\n",
    "            max_beta=0.2,\n",
    "            free_bits=48,\n",
    "            dropout_keep_prob=0.3,\n",
    "        )),\n",
    "    note_sequence_augmenter=None,\n",
    "    data_converter=data.GrooveConverter(\n",
    "        split_bars=4, steps_per_quarter=4, quarters_per_bar=4,\n",
    "        max_tensors_per_notesequence=20,\n",
    "        pitch_classes=data.ROLAND_DRUM_PITCH_CLASSES,\n",
    "        inference_pitch_classes=data.REDUCED_DRUM_PITCH_CLASSES),\n",
    "    # 미리 파싱한 커스텀 데이터로 변경\n",
    "    train_examples_path='./data/groovae_4bar.tfrecord-00000-of-00001',\n",
    "    eval_examples_path='./data/groove_eval/eval_music.tfrecord'\n",
    ")\n",
    "\n",
    "CONFIG_MAP['cat-drums_2bar_big'] = Config(\n",
    "    model=MusicVAE(lstm_models.BidirectionalLstmEncoder(),\n",
    "                   lstm_models.CategoricalLstmDecoder()),\n",
    "    hparams=merge_hparams(\n",
    "        lstm_models.get_default_hparams(),\n",
    "        HParams(\n",
    "            batch_size=512,\n",
    "            max_seq_len=64,  # 원래 2bars를 4bars로 변환했습니다. 4 bars w/ 16 steps per bar\n",
    "            z_size=512,\n",
    "            enc_rnn_size=[2048],\n",
    "            dec_rnn_size=[2048, 2048, 2048],\n",
    "            free_bits=48,\n",
    "            max_beta=0.2,\n",
    "            sampling_schedule='inverse_sigmoid',\n",
    "            sampling_rate=1000,\n",
    "        )),\n",
    "    note_sequence_augmenter=None,\n",
    "    data_converter=data.DrumsConverter(\n",
    "        # max_bars=100,  # 앞서 pre-processing 과정을 거쳤기 때문에 주석처리\n",
    "        slice_bars=4,\n",
    "        steps_per_quarter=4,\n",
    "        roll_input=False),\n",
    "    # change to custom data\n",
    "    train_examples_path='./data/groovae_4bar.tfrecord-00000-of-00001',\n",
    "    eval_examples_path='./data/groove_eval/eval_music.tfrecord',\n",
    ")\n",
    "\n",
    "CONFIG_MAP['groovae_4bar_hier'] = Config(\n",
    "    model=MusicVAE(lstm_models.BidirectionalLstmEncoder(),\n",
    "                   lstm_models.HierarchicalLstmDecoder(\n",
    "                       lstm_models.GrooveLstmDecoder(),\n",
    "                       level_lengths=[16, 4])),\n",
    "    hparams=merge_hparams(\n",
    "        lstm_models.get_default_hparams(),\n",
    "        HParams(\n",
    "            batch_size=512,\n",
    "            max_seq_len=16 * 4,  # 4 bars w/ 16 steps per bar\n",
    "            z_size=256,\n",
    "            enc_rnn_size=[512],\n",
    "            dec_rnn_size=[256, 256],\n",
    "            max_beta=0.2,\n",
    "            free_bits=48,\n",
    "            dropout_keep_prob=0.3,\n",
    "        )),\n",
    "    note_sequence_augmenter=None,\n",
    "    data_converter=data.GrooveConverter(\n",
    "        split_bars=4, steps_per_quarter=4, quarters_per_bar=4,\n",
    "        max_tensors_per_notesequence=20,\n",
    "        pitch_classes=data.ROLAND_DRUM_PITCH_CLASSES,\n",
    "        inference_pitch_classes=data.REDUCED_DRUM_PITCH_CLASSES),\n",
    "    # change to custom data\n",
    "    train_examples_path='./data/groovae_4bar.tfrecord-00000-of-00001',\n",
    "    eval_examples_path='./data/groove_eval/eval_music.tfrecord'\n",
    ")"
   ]
  },
  {
   "cell_type": "code",
   "execution_count": 30,
   "id": "9703a9af-4b52-4d8d-b1cf-68b9211b86f1",
   "metadata": {
    "tags": []
   },
   "outputs": [],
   "source": [
    "# 다시한번 드럼비트만 걸러내기 위해 config 변경\n",
    "\n",
    "filters = None if not True else {  # pylint: disable=g-long-ternary\n",
    "      'max_total_time': 1800,\n",
    "      'max_num_notes': 10000,\n",
    "      'min_velocities': 1,\n",
    "      'min_metric_positions': 1,\n",
    "      'is_drum': True,\n",
    "      'drums_only': True,\n",
    "  }\n",
    "pipeline_options = beam.options.pipeline_options.PipelineOptions('--runner=DirectRunner')"
   ]
  },
  {
   "cell_type": "code",
   "execution_count": null,
   "id": "be49e201-8650-4e98-87e9-05c3ad91caeb",
   "metadata": {},
   "outputs": [],
   "source": []
  },
  {
   "cell_type": "code",
   "execution_count": 31,
   "id": "5360006b-cc41-41a9-9eea-8b110488a729",
   "metadata": {
    "tags": []
   },
   "outputs": [],
   "source": [
    "train_data_path= './data/groove' \n",
    "train_tfrecord_path = './data/music.tfrecord'\n",
    "eval_data_path = './data/groove_eval'\n",
    "eval_tfrecord_path = './data/groove_eval/eval_music.tfrecord'"
   ]
  },
  {
   "cell_type": "markdown",
   "id": "c6baaec7-ddd8-4cde-b947-55c3a57d718a",
   "metadata": {
    "tags": []
   },
   "source": [
    "# Convert to tfrecord format\n",
    "***Github을 참고해 폴더에서 mid -> tfrecord 변환을 진행했습니다***"
   ]
  },
  {
   "cell_type": "code",
   "execution_count": 18,
   "id": "be15a17f-3c1a-4aa3-84dc-3f7e83e97fff",
   "metadata": {
    "scrolled": true,
    "tags": []
   },
   "outputs": [
    {
     "name": "stdout",
     "output_type": "stream",
     "text": [
      "INFO:tensorflow:Converting files in './data/groove_eval/'.\n"
     ]
    },
    {
     "name": "stderr",
     "output_type": "stream",
     "text": [
      "INFO:tensorflow:Converting files in './data/groove_eval/'.\n"
     ]
    },
    {
     "name": "stdout",
     "output_type": "stream",
     "text": [
      "INFO:tensorflow:0 files converted.\n"
     ]
    },
    {
     "name": "stderr",
     "output_type": "stream",
     "text": [
      "INFO:tensorflow:0 files converted.\n"
     ]
    },
    {
     "name": "stdout",
     "output_type": "stream",
     "text": [
      "WARNING:tensorflow:Unable to find a converter for file ./data/groove_eval/eval_music.tfrecord\n"
     ]
    },
    {
     "name": "stderr",
     "output_type": "stream",
     "text": [
      "WARNING:tensorflow:Unable to find a converter for file ./data/groove_eval/eval_music.tfrecord\n"
     ]
    },
    {
     "name": "stdout",
     "output_type": "stream",
     "text": [
      "INFO:tensorflow:Converting files in './data/groove_eval/eval_session'.\n"
     ]
    },
    {
     "name": "stderr",
     "output_type": "stream",
     "text": [
      "INFO:tensorflow:Converting files in './data/groove_eval/eval_session'.\n"
     ]
    },
    {
     "name": "stdout",
     "output_type": "stream",
     "text": [
      "INFO:tensorflow:Converted MIDI file ./data/groove_eval/eval_session/6_hiphop-groove6_87_beat_4-4.mid.\n"
     ]
    },
    {
     "name": "stderr",
     "output_type": "stream",
     "text": [
      "INFO:tensorflow:Converted MIDI file ./data/groove_eval/eval_session/6_hiphop-groove6_87_beat_4-4.mid.\n"
     ]
    },
    {
     "name": "stdout",
     "output_type": "stream",
     "text": [
      "INFO:tensorflow:Converted MIDI file ./data/groove_eval/eval_session/3_soul-groove3_86_beat_4-4.mid.\n"
     ]
    },
    {
     "name": "stderr",
     "output_type": "stream",
     "text": [
      "INFO:tensorflow:Converted MIDI file ./data/groove_eval/eval_session/3_soul-groove3_86_beat_4-4.mid.\n"
     ]
    },
    {
     "name": "stdout",
     "output_type": "stream",
     "text": [
      "INFO:tensorflow:Converted MIDI file ./data/groove_eval/eval_session/7_pop-groove7_138_beat_4-4.mid.\n"
     ]
    },
    {
     "name": "stderr",
     "output_type": "stream",
     "text": [
      "INFO:tensorflow:Converted MIDI file ./data/groove_eval/eval_session/7_pop-groove7_138_beat_4-4.mid.\n"
     ]
    },
    {
     "name": "stdout",
     "output_type": "stream",
     "text": [
      "INFO:tensorflow:Converted MIDI file ./data/groove_eval/eval_session/5_funk-groove5_84_beat_4-4.mid.\n"
     ]
    },
    {
     "name": "stderr",
     "output_type": "stream",
     "text": [
      "INFO:tensorflow:Converted MIDI file ./data/groove_eval/eval_session/5_funk-groove5_84_beat_4-4.mid.\n"
     ]
    },
    {
     "name": "stdout",
     "output_type": "stream",
     "text": [
      "INFO:tensorflow:Converted MIDI file ./data/groove_eval/eval_session/9_soul-groove9_105_beat_4-4.mid.\n"
     ]
    },
    {
     "name": "stderr",
     "output_type": "stream",
     "text": [
      "INFO:tensorflow:Converted MIDI file ./data/groove_eval/eval_session/9_soul-groove9_105_beat_4-4.mid.\n"
     ]
    },
    {
     "name": "stdout",
     "output_type": "stream",
     "text": [
      "INFO:tensorflow:Converted MIDI file ./data/groove_eval/eval_session/1_funk-groove1_138_beat_4-4.mid.\n"
     ]
    },
    {
     "name": "stderr",
     "output_type": "stream",
     "text": [
      "INFO:tensorflow:Converted MIDI file ./data/groove_eval/eval_session/1_funk-groove1_138_beat_4-4.mid.\n"
     ]
    },
    {
     "name": "stdout",
     "output_type": "stream",
     "text": [
      "INFO:tensorflow:Converted MIDI file ./data/groove_eval/eval_session/10_soul-groove10_102_beat_4-4.mid.\n"
     ]
    },
    {
     "name": "stderr",
     "output_type": "stream",
     "text": [
      "INFO:tensorflow:Converted MIDI file ./data/groove_eval/eval_session/10_soul-groove10_102_beat_4-4.mid.\n"
     ]
    },
    {
     "name": "stdout",
     "output_type": "stream",
     "text": [
      "INFO:tensorflow:Converted MIDI file ./data/groove_eval/eval_session/4_soul-groove4_80_beat_4-4.mid.\n"
     ]
    },
    {
     "name": "stderr",
     "output_type": "stream",
     "text": [
      "INFO:tensorflow:Converted MIDI file ./data/groove_eval/eval_session/4_soul-groove4_80_beat_4-4.mid.\n"
     ]
    },
    {
     "name": "stdout",
     "output_type": "stream",
     "text": [
      "INFO:tensorflow:Converted MIDI file ./data/groove_eval/eval_session/2_funk-groove2_105_beat_4-4.mid.\n"
     ]
    },
    {
     "name": "stderr",
     "output_type": "stream",
     "text": [
      "INFO:tensorflow:Converted MIDI file ./data/groove_eval/eval_session/2_funk-groove2_105_beat_4-4.mid.\n"
     ]
    },
    {
     "name": "stdout",
     "output_type": "stream",
     "text": [
      "INFO:tensorflow:Converted MIDI file ./data/groove_eval/eval_session/8_rock-groove8_65_beat_4-4.mid.\n"
     ]
    },
    {
     "name": "stderr",
     "output_type": "stream",
     "text": [
      "INFO:tensorflow:Converted MIDI file ./data/groove_eval/eval_session/8_rock-groove8_65_beat_4-4.mid.\n"
     ]
    },
    {
     "name": "stdout",
     "output_type": "stream",
     "text": [
      "WARNING:tensorflow:Unable to find a converter for file ./data/groove_eval/eval_session/Icon\n"
     ]
    },
    {
     "name": "stderr",
     "output_type": "stream",
     "text": [
      "WARNING:tensorflow:Unable to find a converter for file ./data/groove_eval/eval_session/Icon\n"
     ]
    }
   ],
   "source": [
    "convert_directory(train_data_path, train_tfrecord_path, recursive=True)\n",
    "convert_directory(eval_data_path, eval_tfrecord_path, recursive=True)"
   ]
  },
  {
   "cell_type": "markdown",
   "id": "91e4abf7-3569-4144-8398-c7f30a83d173",
   "metadata": {},
   "source": [
    "# Data Test"
   ]
  },
  {
   "cell_type": "markdown",
   "id": "68d33737-57cf-460e-b507-8d915be45ca7",
   "metadata": {},
   "source": [
    "***groovae_4bar로 tfrecord를 읽어 다시한번 processing 해줬습니다.***\n",
    "***이때, 다시 한번 drum beat만 남기기 위해 config를 수정했고, Evaluation set은 processing을 일부러 하지 않았습니다.***"
   ]
  },
  {
   "cell_type": "code",
   "execution_count": 13,
   "id": "4ef98d9f-fe45-4489-9089-b5896d56da29",
   "metadata": {
    "tags": []
   },
   "outputs": [],
   "source": [
    "tfrecord_proc_path = './data/groovae_4bar.tfrecord'\n",
    "output_shards = 0\n",
    "config_name = 'groovae_4bar'"
   ]
  },
  {
   "cell_type": "code",
   "execution_count": 14,
   "id": "a5d8421e-1be8-4d8d-80b1-711e8ad3d398",
   "metadata": {
    "scrolled": true,
    "tags": []
   },
   "outputs": [
    {
     "name": "stderr",
     "output_type": "stream",
     "text": [
      "WARNING:apache_beam.options.pipeline_options:Discarding unparseable args: ['-', '-', 'r', 'u', 'n', 'n', 'e', 'r', '=', 'D', 'i', 'r', 'e', 'c', 't', 'R', 'u', 'n', 'n', 'e', 'r']\n",
      "WARNING:absl:Extracted example NoteSequence does not reproduce example. Skipping: tempos {\n",
      "  qpm: 120.0\n",
      "}\n",
      "notes {\n",
      "  pitch: 42\n",
      "  velocity: 127\n",
      "  start_time: -0.05312499999999662\n",
      "  end_time: 0.07187500000000338\n",
      "  instrument: 9\n",
      "  is_drum: true\n",
      "}\n",
      "notes {\n",
      "  pitch: 36\n",
      "  velocity: 127\n",
      "  start_time: 0.18333333333332874\n",
      "  end_time: 0.30833333333332874\n",
      "  instrument: 9\n",
      "  is_drum: true\n",
      "}\n",
      "notes {\n",
      "  pitch: 38\n",
      "  velocity: 127\n",
      "  start_time: 0.4458333333333279\n",
      "  end_time: 0.570833333333328\n",
      "  instrument: 9\n",
      "  is_drum: true\n",
      "}\n",
      "notes {\n",
      "  pitch: 42\n",
      "  velocity: 127\n",
      "  start_time: 0.4520833333333355\n",
      "  end_time: 0.5770833333333355\n",
      "  instrument: 9\n",
      "  is_drum: true\n",
      "}\n",
      "notes {\n",
      "  pitch: 42\n",
      "  velocity: 25\n",
      "  start_time: 0.6322916666666679\n",
      "  end_time: 0.7572916666666679\n",
      "  instrument: 9\n",
      "  is_drum: true\n",
      "}\n",
      "notes {\n",
      "  pitch: 36\n",
      "  velocity: 127\n",
      "  start_time: 0.9479166666666637\n",
      "  end_time: 1.0729166666666639\n",
      "  instrument: 9\n",
      "  is_drum: true\n",
      "}\n",
      "notes {\n",
      "  pitch: 42\n",
      "  velocity: 127\n",
      "  start_time: 0.9427083333333317\n",
      "  end_time: 1.0677083333333317\n",
      "  instrument: 9\n",
      "  is_drum: true\n",
      "}\n",
      "notes {\n",
      "  pitch: 36\n",
      "  velocity: 127\n",
      "  start_time: 1.2072916666666675\n",
      "  end_time: 1.3322916666666675\n",
      "  instrument: 9\n",
      "  is_drum: true\n",
      "}\n",
      "notes {\n",
      "  pitch: 38\n",
      "  velocity: 127\n",
      "  start_time: 1.445833333333343\n",
      "  end_time: 1.570833333333343\n",
      "  instrument: 9\n",
      "  is_drum: true\n",
      "}\n",
      "notes {\n",
      "  pitch: 42\n",
      "  velocity: 127\n",
      "  start_time: 1.451041666666675\n",
      "  end_time: 1.576041666666675\n",
      "  instrument: 9\n",
      "  is_drum: true\n",
      "}\n",
      "notes {\n",
      "  pitch: 36\n",
      "  velocity: 127\n",
      "  start_time: 1.6947916666666676\n",
      "  end_time: 1.8197916666666676\n",
      "  instrument: 9\n",
      "  is_drum: true\n",
      "}\n",
      "notes {\n",
      "  pitch: 46\n",
      "  velocity: 127\n",
      "  start_time: 1.6979166666666639\n",
      "  end_time: 1.8229166666666639\n",
      "  instrument: 9\n",
      "  is_drum: true\n",
      "}\n",
      "notes {\n",
      "  pitch: 42\n",
      "  velocity: 57\n",
      "  start_time: 1.9156249999999966\n",
      "  end_time: 2.040624999999997\n",
      "  instrument: 9\n",
      "  is_drum: true\n",
      "}\n",
      "notes {\n",
      "  pitch: 36\n",
      "  velocity: 71\n",
      "  start_time: 2.0968750000000034\n",
      "  end_time: 2.2218750000000034\n",
      "  instrument: 9\n",
      "  is_drum: true\n",
      "}\n",
      "notes {\n",
      "  pitch: 38\n",
      "  velocity: 127\n",
      "  start_time: 2.3458333333333283\n",
      "  end_time: 2.4708333333333283\n",
      "  instrument: 9\n",
      "  is_drum: true\n",
      "}\n",
      "notes {\n",
      "  pitch: 42\n",
      "  velocity: 127\n",
      "  start_time: 2.3468750000000034\n",
      "  end_time: 2.4718750000000034\n",
      "  instrument: 9\n",
      "  is_drum: true\n",
      "}\n",
      "notes {\n",
      "  pitch: 36\n",
      "  velocity: 127\n",
      "  start_time: 2.8708333333333282\n",
      "  end_time: 2.9958333333333282\n",
      "  instrument: 9\n",
      "  is_drum: true\n",
      "}\n",
      "notes {\n",
      "  pitch: 38\n",
      "  velocity: 5\n",
      "  start_time: 2.848958333333324\n",
      "  end_time: 2.973958333333324\n",
      "  instrument: 9\n",
      "  is_drum: true\n",
      "}\n",
      "notes {\n",
      "  pitch: 42\n",
      "  velocity: 127\n",
      "  start_time: 2.8927083333333323\n",
      "  end_time: 3.0177083333333323\n",
      "  instrument: 9\n",
      "  is_drum: true\n",
      "}\n",
      "notes {\n",
      "  pitch: 36\n",
      "  velocity: 84\n",
      "  start_time: 3.139583333333321\n",
      "  end_time: 3.264583333333321\n",
      "  instrument: 9\n",
      "  is_drum: true\n",
      "}\n",
      "notes {\n",
      "  pitch: 38\n",
      "  velocity: 127\n",
      "  start_time: 3.4020833333333362\n",
      "  end_time: 3.5270833333333362\n",
      "  instrument: 9\n",
      "  is_drum: true\n",
      "}\n",
      "notes {\n",
      "  pitch: 42\n",
      "  velocity: 127\n",
      "  start_time: 3.410416666666664\n",
      "  end_time: 3.535416666666664\n",
      "  instrument: 9\n",
      "  is_drum: true\n",
      "}\n",
      "notes {\n",
      "  pitch: 36\n",
      "  velocity: 127\n",
      "  start_time: 3.6656249999999964\n",
      "  end_time: 3.7906249999999964\n",
      "  instrument: 9\n",
      "  is_drum: true\n",
      "}\n",
      "notes {\n",
      "  pitch: 42\n",
      "  velocity: 127\n",
      "  start_time: 3.95104166666666\n",
      "  end_time: 4.07604166666666\n",
      "  instrument: 9\n",
      "  is_drum: true\n",
      "}\n",
      "notes {\n",
      "  pitch: 36\n",
      "  velocity: 121\n",
      "  start_time: 4.209375000000003\n",
      "  end_time: 4.334375000000003\n",
      "  instrument: 9\n",
      "  is_drum: true\n",
      "}\n",
      "notes {\n",
      "  pitch: 38\n",
      "  velocity: 127\n",
      "  start_time: 4.468749999999992\n",
      "  end_time: 4.593749999999992\n",
      "  instrument: 9\n",
      "  is_drum: true\n",
      "}\n",
      "notes {\n",
      "  pitch: 42\n",
      "  velocity: 127\n",
      "  start_time: 4.471875000000003\n",
      "  end_time: 4.596875000000003\n",
      "  instrument: 9\n",
      "  is_drum: true\n",
      "}\n",
      "notes {\n",
      "  pitch: 42\n",
      "  velocity: 32\n",
      "  start_time: 4.777083333333321\n",
      "  end_time: 4.902083333333321\n",
      "  instrument: 9\n",
      "  is_drum: true\n",
      "}\n",
      "notes {\n",
      "  pitch: 36\n",
      "  velocity: 114\n",
      "  start_time: 4.973958333333324\n",
      "  end_time: 5.098958333333324\n",
      "  instrument: 9\n",
      "  is_drum: true\n",
      "}\n",
      "notes {\n",
      "  pitch: 42\n",
      "  velocity: 127\n",
      "  start_time: 5.004166666666657\n",
      "  end_time: 5.129166666666657\n",
      "  instrument: 9\n",
      "  is_drum: true\n",
      "}\n",
      "\n",
      "WARNING:absl:Extracted example NoteSequence does not reproduce example. Skipping: tempos {\n",
      "  qpm: 120.0\n",
      "}\n",
      "notes {\n",
      "  pitch: 36\n",
      "  velocity: 69\n",
      "  start_time: -0.030208333333344245\n",
      "  end_time: 0.09479166666665576\n",
      "  instrument: 9\n",
      "  is_drum: true\n",
      "}\n",
      "notes {\n",
      "  pitch: 51\n",
      "  velocity: 127\n",
      "  start_time: -0.04895833333336418\n",
      "  end_time: 0.07604166666663581\n",
      "  instrument: 9\n",
      "  is_drum: true\n",
      "}\n",
      "notes {\n",
      "  pitch: 46\n",
      "  velocity: 65\n",
      "  start_time: 0.1239583333333208\n",
      "  end_time: 0.2489583333333208\n",
      "  instrument: 9\n",
      "  is_drum: true\n",
      "}\n",
      "notes {\n",
      "  pitch: 36\n",
      "  velocity: 91\n",
      "  start_time: 0.28437500000000226\n",
      "  end_time: 0.40937500000000226\n",
      "  instrument: 9\n",
      "  is_drum: true\n",
      "}\n",
      "notes {\n",
      "  pitch: 51\n",
      "  velocity: 127\n",
      "  start_time: 0.2927083333333477\n",
      "  end_time: 0.4177083333333477\n",
      "  instrument: 9\n",
      "  is_drum: true\n",
      "}\n",
      "notes {\n",
      "  pitch: 38\n",
      "  velocity: 127\n",
      "  start_time: 0.48229166666665924\n",
      "  end_time: 0.6072916666666592\n",
      "  instrument: 9\n",
      "  is_drum: true\n",
      "}\n",
      "notes {\n",
      "  pitch: 42\n",
      "  velocity: 52\n",
      "  start_time: 0.4760416666666428\n",
      "  end_time: 0.6010416666666428\n",
      "  instrument: 9\n",
      "  is_drum: true\n",
      "}\n",
      "notes {\n",
      "  pitch: 51\n",
      "  velocity: 122\n",
      "  start_time: 0.6354166666666451\n",
      "  end_time: 0.7604166666666451\n",
      "  instrument: 9\n",
      "  is_drum: true\n",
      "}\n",
      "notes {\n",
      "  pitch: 42\n",
      "  velocity: 70\n",
      "  start_time: 0.7958333333333266\n",
      "  end_time: 0.9208333333333266\n",
      "  instrument: 9\n",
      "  is_drum: true\n",
      "}\n",
      "notes {\n",
      "  pitch: 36\n",
      "  velocity: 73\n",
      "  start_time: 0.9739583333333431\n",
      "  end_time: 1.0989583333333433\n",
      "  instrument: 9\n",
      "  is_drum: true\n",
      "}\n",
      "notes {\n",
      "  pitch: 51\n",
      "  velocity: 127\n",
      "  start_time: 0.9687500000000059\n",
      "  end_time: 1.0937500000000058\n",
      "  instrument: 9\n",
      "  is_drum: true\n",
      "}\n",
      "notes {\n",
      "  pitch: 46\n",
      "  velocity: 63\n",
      "  start_time: 1.133333333333316\n",
      "  end_time: 1.258333333333316\n",
      "  instrument: 9\n",
      "  is_drum: true\n",
      "}\n",
      "notes {\n",
      "  pitch: 36\n",
      "  velocity: 75\n",
      "  start_time: 1.2760416666666567\n",
      "  end_time: 1.4010416666666567\n",
      "  instrument: 9\n",
      "  is_drum: true\n",
      "}\n",
      "notes {\n",
      "  pitch: 51\n",
      "  velocity: 127\n",
      "  start_time: 1.2968749999999765\n",
      "  end_time: 1.4218749999999765\n",
      "  instrument: 9\n",
      "  is_drum: true\n",
      "}\n",
      "notes {\n",
      "  pitch: 42\n",
      "  velocity: 45\n",
      "  start_time: 1.3989583333333278\n",
      "  end_time: 1.5239583333333278\n",
      "  instrument: 9\n",
      "  is_drum: true\n",
      "}\n",
      "notes {\n",
      "  pitch: 38\n",
      "  velocity: 127\n",
      "  start_time: 1.4802083333333302\n",
      "  end_time: 1.6052083333333302\n",
      "  instrument: 9\n",
      "  is_drum: true\n",
      "}\n",
      "notes {\n",
      "  pitch: 51\n",
      "  velocity: 82\n",
      "  start_time: 1.625\n",
      "  end_time: 1.75\n",
      "  instrument: 9\n",
      "  is_drum: true\n",
      "}\n",
      "notes {\n",
      "  pitch: 38\n",
      "  velocity: 103\n",
      "  start_time: 1.7937499999999975\n",
      "  end_time: 1.9187499999999975\n",
      "  instrument: 9\n",
      "  is_drum: true\n",
      "}\n",
      "notes {\n",
      "  pitch: 36\n",
      "  velocity: 26\n",
      "  start_time: 1.9583333333333022\n",
      "  end_time: 2.083333333333302\n",
      "  instrument: 9\n",
      "  is_drum: true\n",
      "}\n",
      "notes {\n",
      "  pitch: 38\n",
      "  velocity: 127\n",
      "  start_time: 1.9583333333333022\n",
      "  end_time: 2.083333333333302\n",
      "  instrument: 9\n",
      "  is_drum: true\n",
      "}\n",
      "notes {\n",
      "  pitch: 50\n",
      "  velocity: 127\n",
      "  start_time: 2.101041666666672\n",
      "  end_time: 2.226041666666672\n",
      "  instrument: 9\n",
      "  is_drum: true\n",
      "}\n",
      "notes {\n",
      "  pitch: 36\n",
      "  velocity: 127\n",
      "  start_time: 2.304166666666672\n",
      "  end_time: 2.429166666666672\n",
      "  instrument: 9\n",
      "  is_drum: true\n",
      "}\n",
      "notes {\n",
      "  pitch: 50\n",
      "  velocity: 124\n",
      "  start_time: 2.5156249999999822\n",
      "  end_time: 2.6406249999999822\n",
      "  instrument: 9\n",
      "  is_drum: true\n",
      "}\n",
      "notes {\n",
      "  pitch: 36\n",
      "  velocity: 73\n",
      "  start_time: 2.7635416666666535\n",
      "  end_time: 2.8885416666666535\n",
      "  instrument: 9\n",
      "  is_drum: true\n",
      "}\n",
      "notes {\n",
      "  pitch: 47\n",
      "  velocity: 127\n",
      "  start_time: 2.9729166666666638\n",
      "  end_time: 3.0979166666666638\n",
      "  instrument: 9\n",
      "  is_drum: true\n",
      "}\n",
      "notes {\n",
      "  pitch: 36\n",
      "  velocity: 53\n",
      "  start_time: 3.2322916666666592\n",
      "  end_time: 3.3572916666666592\n",
      "  instrument: 9\n",
      "  is_drum: true\n",
      "}\n",
      "notes {\n",
      "  pitch: 38\n",
      "  velocity: 127\n",
      "  start_time: 3.442708333333349\n",
      "  end_time: 3.567708333333349\n",
      "  instrument: 9\n",
      "  is_drum: true\n",
      "}\n",
      "notes {\n",
      "  pitch: 43\n",
      "  velocity: 127\n",
      "  start_time: 3.446875000000007\n",
      "  end_time: 3.571875000000007\n",
      "  instrument: 9\n",
      "  is_drum: true\n",
      "}\n",
      "notes {\n",
      "  pitch: 38\n",
      "  velocity: 127\n",
      "  start_time: 3.8760416666666497\n",
      "  end_time: 4.00104166666665\n",
      "  instrument: 9\n",
      "  is_drum: true\n",
      "}\n",
      "notes {\n",
      "  pitch: 50\n",
      "  velocity: 127\n",
      "  start_time: 4.25\n",
      "  end_time: 4.375\n",
      "  instrument: 9\n",
      "  is_drum: true\n",
      "}\n",
      "notes {\n",
      "  pitch: 43\n",
      "  velocity: 127\n",
      "  start_time: 4.636458333333325\n",
      "  end_time: 4.761458333333325\n",
      "  instrument: 9\n",
      "  is_drum: true\n",
      "}\n",
      "notes {\n",
      "  pitch: 49\n",
      "  velocity: 88\n",
      "  start_time: 5.057291666666651\n",
      "  end_time: 5.182291666666651\n",
      "  instrument: 9\n",
      "  is_drum: true\n",
      "}\n",
      "notes {\n",
      "  pitch: 51\n",
      "  velocity: 127\n",
      "  start_time: 5.4281249999999925\n",
      "  end_time: 5.5531249999999925\n",
      "  instrument: 9\n",
      "  is_drum: true\n",
      "}\n",
      "notes {\n",
      "  pitch: 36\n",
      "  velocity: 127\n",
      "  start_time: 5.4854166666666675\n",
      "  end_time: 5.6104166666666675\n",
      "  instrument: 9\n",
      "  is_drum: true\n",
      "}\n",
      "notes {\n",
      "  pitch: 47\n",
      "  velocity: 23\n",
      "  start_time: 5.73124999999998\n",
      "  end_time: 5.85624999999998\n",
      "  instrument: 9\n",
      "  is_drum: true\n",
      "}\n",
      "\n",
      "WARNING:apache_beam.io.filebasedsink:Deleting 1 existing files in target path matching: -*-of-%(num_shards)05d\n"
     ]
    }
   ],
   "source": [
    "preprocess_tfrecord.run_pipeline(train_tfrecord_path, tfrecord_proc_path, output_shards, config_name, filters, pipeline_options)"
   ]
  },
  {
   "cell_type": "markdown",
   "id": "5e8541a1-224a-4bd0-bf13-b6ddf8c1592b",
   "metadata": {},
   "source": [
    "***아래 코드 cat-drums_2bar_big로 processing 한 결과, 2MB 밖에 남지 않았습니다.***\n",
    "\n",
    "***상세한 이유는 찾지 못했지만 데이터 차이가 크게 나면 다양한 실험을 할 때, 비교군이 되지 못할 것 같아 위의 데이터만 사용하였습니다.***"
   ]
  },
  {
   "cell_type": "code",
   "execution_count": 15,
   "id": "bd484b0f-454e-40c2-9053-01098947d569",
   "metadata": {
    "tags": []
   },
   "outputs": [],
   "source": [
    "tfrecord_proc_path = './data/cat_drum_4bar.tfrecord'\n",
    "output_shards = 0\n",
    "config_name = 'cat-drums_2bar_big'"
   ]
  },
  {
   "cell_type": "code",
   "execution_count": 16,
   "id": "da6518d2-5544-48e4-bb02-d5b25825b450",
   "metadata": {
    "tags": []
   },
   "outputs": [
    {
     "name": "stderr",
     "output_type": "stream",
     "text": [
      "WARNING:apache_beam.options.pipeline_options:Discarding unparseable args: ['-', '-', 'r', 'u', 'n', 'n', 'e', 'r', '=', 'D', 'i', 'r', 'e', 'c', 't', 'R', 'u', 'n', 'n', 'e', 'r']\n",
      "WARNING:apache_beam.io.filebasedsink:Deleting 1 existing files in target path matching: -*-of-%(num_shards)05d\n"
     ]
    }
   ],
   "source": [
    "preprocess_tfrecord.run_pipeline(train_tfrecord_path, tfrecord_proc_path, output_shards, config_name, filters, pipeline_options)"
   ]
  },
  {
   "cell_type": "code",
   "execution_count": null,
   "id": "6be6e769-1c7e-4dcc-9472-07e1394705be",
   "metadata": {},
   "outputs": [],
   "source": []
  },
  {
   "cell_type": "code",
   "execution_count": null,
   "id": "91ed02c7-a445-4ae0-bed8-4d80cf934aad",
   "metadata": {},
   "outputs": [],
   "source": []
  },
  {
   "cell_type": "code",
   "execution_count": null,
   "id": "ccd106c1-aaa5-4f02-9d3c-d6f1e6abbb53",
   "metadata": {},
   "outputs": [],
   "source": []
  }
 ],
 "metadata": {
  "kernelspec": {
   "display_name": "jhjang7",
   "language": "python",
   "name": "jhjang7"
  },
  "language_info": {
   "codemirror_mode": {
    "name": "ipython",
    "version": 3
   },
   "file_extension": ".py",
   "mimetype": "text/x-python",
   "name": "python",
   "nbconvert_exporter": "python",
   "pygments_lexer": "ipython3",
   "version": "3.7.16"
  }
 },
 "nbformat": 4,
 "nbformat_minor": 5
}
